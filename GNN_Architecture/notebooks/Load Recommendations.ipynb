{
 "cells": [
  {
   "cell_type": "code",
   "execution_count": 3,
   "id": "e4b83ba2",
   "metadata": {},
   "outputs": [
    {
     "name": "stderr",
     "output_type": "stream",
     "text": [
      "/Users/pratikaher/DGL/graph-rec/venv/lib/python3.8/site-packages/tqdm/auto.py:22: TqdmWarning: IProgress not found. Please update jupyter and ipywidgets. See https://ipywidgets.readthedocs.io/en/stable/user_install.html\n",
      "  from .autonotebook import tqdm as notebook_tqdm\n"
     ]
    }
   ],
   "source": [
    "import pickle, dgl\n",
    "from settings import BASE_DIR\n",
    "\n",
    "f = open(\"/Users/pratikaher/SPRING23/Capstone/GNN_Architecture/run_data/graph_files_subgraph/model_recommendations.pickle\", 'rb')\n",
    "model_recommendations = pickle.load(f)\n",
    "\n",
    "f = open(\"/Users/pratikaher/SPRING23/Capstone/GNN_Architecture/run_data/graph_files_subgraph/recommendations_from_valid_graph.pickle\", 'rb')\n",
    "recommendations_from_valid_graph = pickle.load(f)"
   ]
  },
  {
   "cell_type": "code",
   "execution_count": 34,
   "id": "9dfe6c8c",
   "metadata": {},
   "outputs": [
    {
     "data": {
      "text/plain": [
       "31474"
      ]
     },
     "execution_count": 34,
     "metadata": {},
     "output_type": "execute_result"
    }
   ],
   "source": [
    "len(model_recommendations[0])"
   ]
  },
  {
   "cell_type": "code",
   "execution_count": 35,
   "id": "1d8adb1e",
   "metadata": {},
   "outputs": [],
   "source": [
    "def compare_rec(valid_recs, model_recs):\n",
    "\n",
    "    total = 0\n",
    "    correct = 0\n",
    "    \n",
    "    result = []\n",
    "    number_products = len(model_recommendations[0])\n",
    "    num_recs = 20\n",
    "\n",
    "    for key, value in valid_recs.items():\n",
    "\n",
    "        model_recs_list = model_recs[key][:num_recs]\n",
    "        test_recs_list = valid_recs[key]\n",
    "        \n",
    "        TP = len([value for value in test_recs_list if value in set(model_recs_list)])\n",
    "        FN = len([value for value in test_recs_list if value not in set(model_recs_list)])\n",
    "        FP = num_recs - TP\n",
    "        TN = number_products - (TP + FP + FN)\n",
    "        \n",
    "        result.append((TP, FP, FN, TN))\n",
    "        \n",
    "#             correct += len(recommended_movies_correct)\n",
    "#             total += len(set(test_recs_list))\n",
    "        \n",
    "        \n",
    "\n",
    "#         break\n",
    "\n",
    "        # print(test_recs_list)\n",
    "\n",
    "#         recommended_movies_correct = set(list(set(model_recs_list) & set(test_recs_list)))\n",
    "        \n",
    "#         result.append((len(recommended_movies_correct), len(set(model_recs_list)), len(set(test_recs_list))))\n",
    "\n",
    "#         if len(set(test_recs_list)) > 0:\n",
    "\n",
    "#             # print(\n",
    "#             #     \"User ID\",\n",
    "#             #     key,\n",
    "#             #     \"Correctly predicted movies\",\n",
    "#             #     recommended_movies_correct,\n",
    "#             # )\n",
    "\n",
    "#             # print(\n",
    "#             #     \"Total test values\",\n",
    "#             #     len(recommended_movies_correct),\n",
    "#             #     \"out of\",\n",
    "#             #     len(set(test_recs_list)),\n",
    "#             # )\n",
    "\n",
    "#             correct += len(recommended_movies_correct)\n",
    "#             total += len(set(test_recs_list))\n",
    "        \n",
    "        # print(\"Ratings\", [ ratings_HM[movie_id] for movie_id in recommended_movies_correct ])\n",
    "\n",
    "    return correct, total, result\n"
   ]
  },
  {
   "cell_type": "code",
   "execution_count": 36,
   "id": "351c9e22",
   "metadata": {},
   "outputs": [],
   "source": [
    "correct, total, result = compare_rec(recommendations_from_valid_graph, model_recommendations)"
   ]
  },
  {
   "cell_type": "code",
   "execution_count": 37,
   "id": "e99d1404",
   "metadata": {},
   "outputs": [
    {
     "data": {
      "text/plain": [
       "(1, 19, 0, 31454)"
      ]
     },
     "execution_count": 37,
     "metadata": {},
     "output_type": "execute_result"
    }
   ],
   "source": [
    "result[0]"
   ]
  },
  {
   "cell_type": "code",
   "execution_count": 25,
   "id": "f4fc76dc",
   "metadata": {},
   "outputs": [
    {
     "name": "stdout",
     "output_type": "stream",
     "text": [
      "0 0\n"
     ]
    }
   ],
   "source": [
    "print(correct, total)"
   ]
  },
  {
   "cell_type": "code",
   "execution_count": 33,
   "id": "495df3be",
   "metadata": {},
   "outputs": [
    {
     "name": "stdout",
     "output_type": "stream",
     "text": [
      "(2, 20, 2)\n"
     ]
    }
   ],
   "source": [
    "for value in result:\n",
    "    if value[0] > 1:\n",
    "        print(value)"
   ]
  },
  {
   "cell_type": "code",
   "execution_count": 34,
   "id": "401c601a",
   "metadata": {},
   "outputs": [
    {
     "data": {
      "image/png": "[encoded data removed]",
      "text/plain": [
       "<Figure size 640x480 with 1 Axes>"
      ]
     },
     "metadata": {},
     "output_type": "display_data"
    }
   ],
   "source": [
    "import matplotlib.pyplot as plt\n",
    "fig = plt.figure()\n",
    "ax = fig.add_axes([0,0,1,1])\n",
    "langs = range(len(result))\n",
    "TP_graph = [x[0] for x in result]\n",
    "ax.bar(langs, [x[2] for x in result])\n",
    "ax.bar(langs, rec_movies_correct, width = 2)\n",
    "plt.show()"
   ]
  },
  {
   "cell_type": "code",
   "execution_count": null,
   "id": "9c899b3f",
   "metadata": {},
   "outputs": [],
   "source": []
  }
 ],
 "metadata": {
  "kernelspec": {
   "display_name": "venv",
   "language": "python",
   "name": "venv"
  },
  "language_info": {
   "codemirror_mode": {
    "name": "ipython",
    "version": 3
   },
   "file_extension": ".py",
   "mimetype": "text/x-python",
   "name": "python",
   "nbconvert_exporter": "python",
   "pygments_lexer": "ipython3",
   "version": "3.8.8"
  }
 },
 "nbformat": 4,
 "nbformat_minor": 5
}
